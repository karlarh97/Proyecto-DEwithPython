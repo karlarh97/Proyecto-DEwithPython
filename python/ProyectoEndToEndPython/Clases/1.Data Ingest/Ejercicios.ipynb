{
 "cells": [
  {
   "cell_type": "markdown",
   "metadata": {},
   "source": [
    "### Ejercicio 1\n",
    "\n",
    "* Leer los archivos de la carpeta data e insertarlos en una base de datos mysql \n",
    "* Nombre de la base de datos: retail_db\n",
    "* Los nombres de las tablas debe coincidir con los nombres de los archivos\n",
    "    \n",
    "    |  ```archivos``` |\n",
    "    | --- |\n",
    "    |customers  |   \n",
    "    |orders     |\n",
    "    |order_items| \n",
    "    |products   |\n",
    "    |categories |\n",
    "    |departments|\n",
    "    \n",
    "    <br>\n",
    "* Los archivos no cuentan con cabecera y tienen como separador '|'\n",
    "\n",
    "    | ```Customers``` |\n",
    "    | --- |\n",
    "    |customer_id  |   \n",
    "    |customer_fname     |\n",
    "    |customer_lname| \n",
    "    |customer_email   |\n",
    "    |customer_password |\n",
    "    |customer_street|\n",
    "    |customer_city|\n",
    "    |customer_state|\n",
    "    |customer_zipcode|\n",
    "\n",
    "    <br>\n",
    "\n",
    "    | ```Orders``` |\n",
    "    | --- |\n",
    "    |order_id  |   \n",
    "    |order_date     |\n",
    "    |order_customer_id| \n",
    "    |order_status   |\n",
    "\n",
    "    <br>\n",
    "\n",
    "    | ```Order_items``` |\n",
    "    | --- |\n",
    "    |order_item_id  |   \n",
    "    |order_item_order_id    |\n",
    "    |order_item_product_id| \n",
    "    |order_item_quantity   |\n",
    "    |order_item_subtotal   |\n",
    "    |order_item_product_price  |\n",
    "\n",
    "     <br>\n",
    "\n",
    "    | ```Products``` |\n",
    "    | --- |\n",
    "    |product_id  |   \n",
    "    |product_category_id   |\n",
    "    |product_name| \n",
    "    |product_description   |\n",
    "    |product_price   |\n",
    "    |product_image |\n",
    "\n",
    "    <br>\n",
    "\n",
    "    | ```Categories``` |\n",
    "    | --- |\n",
    "    |category_id  |   \n",
    "    |category_department_id   |\n",
    "    |category_name| \n",
    "\n",
    "    <br>\n",
    "\n",
    "    | ```Departments``` |\n",
    "    | --- |\n",
    "    |department_id  |   \n",
    "    |department_name  |\n",
    "        "
   ]
  },
  {
   "attachments": {},
   "cell_type": "markdown",
   "metadata": {},
   "source": [
    "### Ejercicio 2\n",
    "\n",
    "* Crear una funcion en python que obtenga los datos de las tablas de retail_db\n",
    "* Crear una funcion que cargue estos datos a una base de datos en MongoDb"
   ]
  },
  {
   "attachments": {},
   "cell_type": "markdown",
   "metadata": {},
   "source": [
    "### Ejercicio 3\n",
    "\n",
    "* Crear una funcion en python que obtenga los datos de MongoDb\n",
    "* Crear una funcion que cargue los datos a GCP (Cloud Storage)\n",
    "* Crear una funcion que cargue los datos a Azure (ADLS / Blob Storage)"
   ]
  },
  {
   "cell_type": "code",
   "execution_count": null,
   "metadata": {},
   "outputs": [],
   "source": []
  }
 ],
 "metadata": {
  "kernelspec": {
   "display_name": "Python 3 (ipykernel)",
   "language": "python",
   "name": "python3"
  },
  "language_info": {
   "codemirror_mode": {
    "name": "ipython",
    "version": 3
   },
   "file_extension": ".py",
   "mimetype": "text/x-python",
   "name": "python",
   "nbconvert_exporter": "python",
   "pygments_lexer": "ipython3",
   "version": "3.9.16"
  }
 },
 "nbformat": 4,
 "nbformat_minor": 4
}
