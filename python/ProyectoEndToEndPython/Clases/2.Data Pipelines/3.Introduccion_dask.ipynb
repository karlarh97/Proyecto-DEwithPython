{
 "cells": [
  {
   "cell_type": "code",
   "execution_count": null,
   "metadata": {
    "tags": []
   },
   "outputs": [],
   "source": [
    "from time import sleep\n",
    "\n",
    "def calculate_square(x):\n",
    "    sleep(1)\n",
    "    x= x**2\n",
    "    return x\n",
    "\n",
    "def get_sum(a,b):\n",
    "    sleep(1)\n",
    "    return a+b"
   ]
  },
  {
   "cell_type": "code",
   "execution_count": null,
   "metadata": {
    "tags": []
   },
   "outputs": [],
   "source": [
    "%%time\n",
    "\n",
    "x = calculate_square(10)\n",
    "\n",
    "y = calculate_square(20)\n",
    "\n",
    "z = get_sum(x,y)\n",
    "print(z)\n"
   ]
  },
  {
   "cell_type": "code",
   "execution_count": null,
   "metadata": {
    "tags": []
   },
   "outputs": [],
   "source": [
    "import dask\n",
    "from dask import delayed"
   ]
  },
  {
   "cell_type": "code",
   "execution_count": null,
   "metadata": {
    "tags": []
   },
   "outputs": [],
   "source": [
    "%%time\n",
    "x = delayed(calculate_square)(10)\n",
    "y = delayed(calculate_square)(20)\n",
    "z = delayed(get_sum)(x, y)\n",
    "print(z)"
   ]
  },
  {
   "cell_type": "code",
   "execution_count": null,
   "metadata": {
    "tags": []
   },
   "outputs": [],
   "source": [
    "%%time\n",
    "z.visualize(filename='transpose.svg')"
   ]
  },
  {
   "cell_type": "code",
   "execution_count": null,
   "metadata": {
    "tags": []
   },
   "outputs": [],
   "source": [
    "%%time\n",
    "z.compute()"
   ]
  },
  {
   "cell_type": "code",
   "execution_count": null,
   "metadata": {
    "tags": []
   },
   "outputs": [],
   "source": [
    "## Call above functions in a for loop\n",
    "output = []\n",
    "## iterate over values and calculate the sum\n",
    "for i in range(5):\n",
    "    a = delayed(calculate_square)(i)\n",
    "    b = delayed(calculate_square)(i+10)\n",
    "    c = delayed(get_sum)(a, b)\n",
    "    output.append(c)\n",
    "total = dask.delayed(sum)(output)\n",
    "## Visualizing the graph\n",
    "#total.visualize(filename='loops.svg')"
   ]
  },
  {
   "cell_type": "code",
   "execution_count": null,
   "metadata": {
    "tags": []
   },
   "outputs": [],
   "source": [
    "%%time\n",
    "total.compute()"
   ]
  },
  {
   "cell_type": "code",
   "execution_count": null,
   "metadata": {
    "tags": []
   },
   "outputs": [],
   "source": [
    "import dask.dataframe as dd\n",
    "\n",
    "df_dd_customer = dd.read_csv('../data/customer', sep=\"|\",header=None, names=[\"customer_id\",\"customer_fname\",\"customer_lname\",\"customer_email\",\"customer_password\",\"customer_street\",\"customer_city\",\"customer_state\",\"customer_zipcode\"])"
   ]
  },
  {
   "cell_type": "code",
   "execution_count": null,
   "metadata": {
    "tags": []
   },
   "outputs": [],
   "source": [
    "df_dd_orders = dd.read_csv('../data/orders',sep='|', header=None, names=[\"order_id\",\"order_date\",\"order_customer_id\",\"order_status\"])\n"
   ]
  },
  {
   "cell_type": "code",
   "execution_count": null,
   "metadata": {
    "tags": []
   },
   "outputs": [],
   "source": [
    "join =df_dd_customer.merge(df_dd_orders, left_on='customer_id', right_on='order_customer_id', how='left')"
   ]
  },
  {
   "cell_type": "code",
   "execution_count": null,
   "metadata": {
    "tags": []
   },
   "outputs": [],
   "source": [
    "result = join.query(\"customer_street =='9526 Noble Embers Ridge'\").groupby(\"customer_id\").count()"
   ]
  },
  {
   "cell_type": "code",
   "execution_count": null,
   "metadata": {
    "tags": []
   },
   "outputs": [],
   "source": [
    "%%time\n",
    "result.compute()"
   ]
  },
  {
   "cell_type": "code",
   "execution_count": null,
   "metadata": {},
   "outputs": [],
   "source": []
  },
  {
   "cell_type": "code",
   "execution_count": null,
   "metadata": {},
   "outputs": [],
   "source": []
  }
 ],
 "metadata": {
  "kernelspec": {
   "display_name": "Python 3 (ipykernel)",
   "language": "python",
   "name": "python3"
  },
  "language_info": {
   "codemirror_mode": {
    "name": "ipython",
    "version": 3
   },
   "file_extension": ".py",
   "mimetype": "text/x-python",
   "name": "python",
   "nbconvert_exporter": "python",
   "pygments_lexer": "ipython3",
   "version": "3.9.16"
  },
  "vscode": {
   "interpreter": {
    "hash": "c04fbabe0d561ddef1120d8acc2558e156978e319ba390ec8b4c2b911f8c8c8b"
   }
  }
 },
 "nbformat": 4,
 "nbformat_minor": 4
}
