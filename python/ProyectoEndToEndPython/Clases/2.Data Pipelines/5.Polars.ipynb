{
 "cells": [
  {
   "cell_type": "code",
   "execution_count": null,
   "metadata": {
    "tags": []
   },
   "outputs": [],
   "source": [
    "!pip install polars"
   ]
  },
  {
   "cell_type": "code",
   "execution_count": null,
   "metadata": {
    "tags": []
   },
   "outputs": [],
   "source": [
    "import polars as pl\n",
    "import time\n",
    "# to enrich the examples in this quickstart with dates\n",
    "from datetime import datetime, timedelta \n",
    "# to generate data for the examples\n",
    "import numpy as np \n",
    "import pandas as pd"
   ]
  },
  {
   "cell_type": "code",
   "execution_count": null,
   "metadata": {
    "tags": []
   },
   "outputs": [],
   "source": [
    "dataframe = pl.DataFrame({\"integer\": [1, 2, 3], \n",
    "                          \"date\": [\n",
    "                              (datetime(2022, 1, 1)), \n",
    "                              (datetime(2022, 1, 2)), \n",
    "                              (datetime(2022, 1, 3))\n",
    "                          ], \n",
    "                          \"float\":[4.0, 5.0, 6.0]})\n",
    "\n",
    "print(dataframe)"
   ]
  },
  {
   "cell_type": "code",
   "execution_count": null,
   "metadata": {
    "tags": []
   },
   "outputs": [],
   "source": [
    "df_pl_customer = pl.read_csv('../data/customer', separator=\"|\",has_header=False, new_columns=[\"customer_id\",\"customer_fname\",\"customer_lname\",\"customer_email\",\"customer_password\",\"customer_street\",\"customer_city\",\"customer_state\",\"customer_zipcode\"])"
   ]
  },
  {
   "cell_type": "code",
   "execution_count": null,
   "metadata": {
    "tags": []
   },
   "outputs": [],
   "source": [
    "df_pl_orders = pl.read_csv('../data/orders',separator='|', has_header=False, new_columns=[\"order_id\",\"order_date\",\"order_customer_id\",\"order_status\"])\n"
   ]
  },
  {
   "cell_type": "code",
   "execution_count": null,
   "metadata": {
    "tags": []
   },
   "outputs": [],
   "source": [
    "df_pl_order_items = pl.read_csv('../data/order_items',separator='|', has_header=False, new_columns=[\"order_item_id\",\"order_item_order_id\",\"order_item_product_id\",\"order_item_quantity\",\"order_item_subtotal\",\"order_item_product_price\"])\n"
   ]
  },
  {
   "cell_type": "code",
   "execution_count": null,
   "metadata": {
    "tags": []
   },
   "outputs": [],
   "source": [
    "df_pd_customer = pd.read_csv('../data/customer', sep=\"|\",header=None, names=[\"customer_id\",\"customer_fname\",\"customer_lname\",\"customer_email\",\"customer_password\",\"customer_street\",\"customer_city\",\"customer_state\",\"customer_zipcode\"])"
   ]
  },
  {
   "cell_type": "code",
   "execution_count": null,
   "metadata": {
    "tags": []
   },
   "outputs": [],
   "source": [
    "df_pd_orders = pd.read_csv('../data/orders',sep='|', header=None, names=[\"order_id\",\"order_date\",\"order_customer_id\",\"order_status\"])\n"
   ]
  },
  {
   "cell_type": "code",
   "execution_count": null,
   "metadata": {
    "tags": []
   },
   "outputs": [],
   "source": [
    "df_pd_order_items = pd.read_csv('../data/order_items',sep='|', header=None, names=[\"order_item_id\",\"order_item_order_id\",\"order_item_product_id\",\"order_item_quantity\",\"order_item_subtotal\",\"order_item_product_price\"])\n"
   ]
  },
  {
   "cell_type": "code",
   "execution_count": null,
   "metadata": {
    "tags": []
   },
   "outputs": [],
   "source": [
    "df_pd_customer"
   ]
  },
  {
   "cell_type": "code",
   "execution_count": null,
   "metadata": {
    "tags": []
   },
   "outputs": [],
   "source": [
    "%%time\n",
    "df_pd_customer.merge(df_pd_orders, left_on='customer_id', right_on='order_customer_id', how='left').query(\"customer_street =='9526 Noble Embers Ridge'\")"
   ]
  },
  {
   "cell_type": "code",
   "execution_count": null,
   "metadata": {
    "tags": []
   },
   "outputs": [],
   "source": [
    "%%time\n",
    "df_pl_customer.join(df_pl_orders, left_on=\"customer_id\", right_on=\"order_customer_id\", how=\"left\").filter(pl.col(\"customer_street\") == \"9526 Noble Embers Ridge\")"
   ]
  },
  {
   "cell_type": "code",
   "execution_count": null,
   "metadata": {
    "tags": []
   },
   "outputs": [],
   "source": [
    "df = pl.DataFrame(\n",
    "    data=[\n",
    "        (\"The Godfather\", 1972, 6_000_000, 134_821_952, 9.2),\n",
    "        (\"The Dark Knight\", 2008, 185_000_000, 533_316_061, 9.0),\n",
    "        (\"Schindler's List\", 1993, 22_000_000, 96_067_179, 8.9),\n",
    "        (\"Pulp Fiction\", 1994, 8_000_000, 107_930_000, 8.9),\n",
    "        (\"The Shawshank Redemption\", 1994, 25_000_000, 28_341_469, 9.3),\n",
    "    ],\n",
    "    schema=[\"title\", \"release_year\", \"budget\", \"gross\", \"imdb_score\"],\n",
    ")\n",
    "ctx = pl.SQLContext(films=df)"
   ]
  },
  {
   "cell_type": "code",
   "execution_count": null,
   "metadata": {
    "tags": []
   },
   "outputs": [],
   "source": [
    "ctx.execute(\n",
    "    '''\n",
    "    SELECT title, release_year, imdb_score\n",
    "    FROM films\n",
    "    WHERE release_year > 1990\n",
    "    ORDER BY imdb_score DESC\n",
    "    ''',\n",
    "    eager=True,\n",
    ")"
   ]
  },
  {
   "cell_type": "code",
   "execution_count": null,
   "metadata": {
    "tags": []
   },
   "outputs": [],
   "source": [
    "ctx.execute(\n",
    "    '''\n",
    "    SELECT\n",
    "        MAX(release_year / 10) * 10 AS decade,\n",
    "        SUM(gross) AS total_gross,\n",
    "        COUNT(title) AS n_films,\n",
    "    FROM films\n",
    "    GROUP BY (release_year / 10) -- decade\n",
    "    ORDER BY total_gross DESC\n",
    "    ''',\n",
    "    eager=True,\n",
    ")"
   ]
  },
  {
   "cell_type": "code",
   "execution_count": null,
   "metadata": {
    "tags": []
   },
   "outputs": [],
   "source": [
    "df = pl.DataFrame({\"hello\": [\"world\"]})\n",
    "ctx = pl.SQLContext()\n",
    "ctx.register(\"frame_data\", df).execute(\"SELECT * FROM frame_data\").collect()"
   ]
  },
  {
   "cell_type": "code",
   "execution_count": null,
   "metadata": {
    "tags": []
   },
   "outputs": [],
   "source": [
    "lf1 = pl.LazyFrame({\"a\": [1, 2, 3], \"b\": [\"m\", \"n\", \"o\"]})\n",
    "lf2 = pl.LazyFrame({\"a\": [2, 3, 4], \"c\": [\"p\", \"q\", \"r\"]})\n",
    "lf3 = pl.LazyFrame({\"a\": [3, 4, 5], \"b\": [\"s\", \"t\", \"u\"]})\n",
    "lf4 = pl.LazyFrame({\"a\": [4, 5, 6], \"c\": [\"v\", \"w\", \"x\"]})"
   ]
  },
  {
   "cell_type": "code",
   "execution_count": null,
   "metadata": {
    "tags": []
   },
   "outputs": [],
   "source": [
    "ctx = pl.SQLContext().register_many({\"tbl1\": lf1, \"tbl2\": lf2})"
   ]
  },
  {
   "cell_type": "code",
   "execution_count": null,
   "metadata": {
    "tags": []
   },
   "outputs": [],
   "source": [
    "pl_df = ctx.execute(\"SELECT * FROM tbl1\").collect()"
   ]
  },
  {
   "cell_type": "code",
   "execution_count": null,
   "metadata": {
    "tags": []
   },
   "outputs": [],
   "source": [
    "ctx = pl.SQLContext().register_many({\"customers\": df_pl_customer, \"orders\": df_pl_orders})"
   ]
  },
  {
   "cell_type": "code",
   "execution_count": null,
   "metadata": {
    "tags": []
   },
   "outputs": [],
   "source": [
    "ctx.execute(\"SELECT * FROM customers LEFT JOIN orders ON customer_id = order_customer_id\").collect()"
   ]
  },
  {
   "cell_type": "code",
   "execution_count": null,
   "metadata": {},
   "outputs": [],
   "source": []
  }
 ],
 "metadata": {
  "kernelspec": {
   "display_name": "Python 3 (ipykernel)",
   "language": "python",
   "name": "python3"
  },
  "language_info": {
   "codemirror_mode": {
    "name": "ipython",
    "version": 3
   },
   "file_extension": ".py",
   "mimetype": "text/x-python",
   "name": "python",
   "nbconvert_exporter": "python",
   "pygments_lexer": "ipython3",
   "version": "3.9.16"
  },
  "vscode": {
   "interpreter": {
    "hash": "966f2900da358dd5f28eaee2bebb0e061e8c6e0636bb0cdf171384495951b627"
   }
  }
 },
 "nbformat": 4,
 "nbformat_minor": 4
}
